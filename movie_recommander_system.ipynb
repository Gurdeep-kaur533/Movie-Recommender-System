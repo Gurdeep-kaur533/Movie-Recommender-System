{
  "cells": [
    {
      "cell_type": "markdown",
      "metadata": {
        "id": "view-in-github",
        "colab_type": "text"
      },
      "source": [
        "<a href=\"https://colab.research.google.com/github/Gurdeep-kaur533/Movie-Recommender-System/blob/main/movie_recommander_system.ipynb\" target=\"_parent\"><img src=\"https://colab.research.google.com/assets/colab-badge.svg\" alt=\"Open In Colab\"/></a>"
      ]
    },
    {
      "cell_type": "code",
      "execution_count": 2,
      "id": "4187fcbf-620c-40e2-a76d-2c8f68e2620a",
      "metadata": {
        "id": "4187fcbf-620c-40e2-a76d-2c8f68e2620a"
      },
      "outputs": [],
      "source": [
        "import numpy as np\n",
        "import pandas as pd"
      ]
    },
    {
      "cell_type": "code",
      "source": [
        "from google.colab import files\n",
        "uploaded = files.upload()"
      ],
      "metadata": {
        "colab": {
          "base_uri": "https://localhost:8080/",
          "height": 55
        },
        "id": "Wx1Zq_ZKDQ3h",
        "outputId": "1a481bad-0fd6-40e4-872b-73c70945b450"
      },
      "id": "Wx1Zq_ZKDQ3h",
      "execution_count": null,
      "outputs": [
        {
          "output_type": "display_data",
          "data": {
            "text/plain": [
              "<IPython.core.display.HTML object>"
            ],
            "text/html": [
              "\n",
              "     <input type=\"file\" id=\"files-2fc50a5e-3929-481b-84da-6300aed66800\" name=\"files[]\" multiple disabled\n",
              "        style=\"border:none\" />\n",
              "     <output id=\"result-2fc50a5e-3929-481b-84da-6300aed66800\">\n",
              "      Upload widget is only available when the cell has been executed in the\n",
              "      current browser session. Please rerun this cell to enable.\n",
              "      </output>\n",
              "      <script>// Copyright 2017 Google LLC\n",
              "//\n",
              "// Licensed under the Apache License, Version 2.0 (the \"License\");\n",
              "// you may not use this file except in compliance with the License.\n",
              "// You may obtain a copy of the License at\n",
              "//\n",
              "//      http://www.apache.org/licenses/LICENSE-2.0\n",
              "//\n",
              "// Unless required by applicable law or agreed to in writing, software\n",
              "// distributed under the License is distributed on an \"AS IS\" BASIS,\n",
              "// WITHOUT WARRANTIES OR CONDITIONS OF ANY KIND, either express or implied.\n",
              "// See the License for the specific language governing permissions and\n",
              "// limitations under the License.\n",
              "\n",
              "/**\n",
              " * @fileoverview Helpers for google.colab Python module.\n",
              " */\n",
              "(function(scope) {\n",
              "function span(text, styleAttributes = {}) {\n",
              "  const element = document.createElement('span');\n",
              "  element.textContent = text;\n",
              "  for (const key of Object.keys(styleAttributes)) {\n",
              "    element.style[key] = styleAttributes[key];\n",
              "  }\n",
              "  return element;\n",
              "}\n",
              "\n",
              "// Max number of bytes which will be uploaded at a time.\n",
              "const MAX_PAYLOAD_SIZE = 100 * 1024;\n",
              "\n",
              "function _uploadFiles(inputId, outputId) {\n",
              "  const steps = uploadFilesStep(inputId, outputId);\n",
              "  const outputElement = document.getElementById(outputId);\n",
              "  // Cache steps on the outputElement to make it available for the next call\n",
              "  // to uploadFilesContinue from Python.\n",
              "  outputElement.steps = steps;\n",
              "\n",
              "  return _uploadFilesContinue(outputId);\n",
              "}\n",
              "\n",
              "// This is roughly an async generator (not supported in the browser yet),\n",
              "// where there are multiple asynchronous steps and the Python side is going\n",
              "// to poll for completion of each step.\n",
              "// This uses a Promise to block the python side on completion of each step,\n",
              "// then passes the result of the previous step as the input to the next step.\n",
              "function _uploadFilesContinue(outputId) {\n",
              "  const outputElement = document.getElementById(outputId);\n",
              "  const steps = outputElement.steps;\n",
              "\n",
              "  const next = steps.next(outputElement.lastPromiseValue);\n",
              "  return Promise.resolve(next.value.promise).then((value) => {\n",
              "    // Cache the last promise value to make it available to the next\n",
              "    // step of the generator.\n",
              "    outputElement.lastPromiseValue = value;\n",
              "    return next.value.response;\n",
              "  });\n",
              "}\n",
              "\n",
              "/**\n",
              " * Generator function which is called between each async step of the upload\n",
              " * process.\n",
              " * @param {string} inputId Element ID of the input file picker element.\n",
              " * @param {string} outputId Element ID of the output display.\n",
              " * @return {!Iterable<!Object>} Iterable of next steps.\n",
              " */\n",
              "function* uploadFilesStep(inputId, outputId) {\n",
              "  const inputElement = document.getElementById(inputId);\n",
              "  inputElement.disabled = false;\n",
              "\n",
              "  const outputElement = document.getElementById(outputId);\n",
              "  outputElement.innerHTML = '';\n",
              "\n",
              "  const pickedPromise = new Promise((resolve) => {\n",
              "    inputElement.addEventListener('change', (e) => {\n",
              "      resolve(e.target.files);\n",
              "    });\n",
              "  });\n",
              "\n",
              "  const cancel = document.createElement('button');\n",
              "  inputElement.parentElement.appendChild(cancel);\n",
              "  cancel.textContent = 'Cancel upload';\n",
              "  const cancelPromise = new Promise((resolve) => {\n",
              "    cancel.onclick = () => {\n",
              "      resolve(null);\n",
              "    };\n",
              "  });\n",
              "\n",
              "  // Wait for the user to pick the files.\n",
              "  const files = yield {\n",
              "    promise: Promise.race([pickedPromise, cancelPromise]),\n",
              "    response: {\n",
              "      action: 'starting',\n",
              "    }\n",
              "  };\n",
              "\n",
              "  cancel.remove();\n",
              "\n",
              "  // Disable the input element since further picks are not allowed.\n",
              "  inputElement.disabled = true;\n",
              "\n",
              "  if (!files) {\n",
              "    return {\n",
              "      response: {\n",
              "        action: 'complete',\n",
              "      }\n",
              "    };\n",
              "  }\n",
              "\n",
              "  for (const file of files) {\n",
              "    const li = document.createElement('li');\n",
              "    li.append(span(file.name, {fontWeight: 'bold'}));\n",
              "    li.append(span(\n",
              "        `(${file.type || 'n/a'}) - ${file.size} bytes, ` +\n",
              "        `last modified: ${\n",
              "            file.lastModifiedDate ? file.lastModifiedDate.toLocaleDateString() :\n",
              "                                    'n/a'} - `));\n",
              "    const percent = span('0% done');\n",
              "    li.appendChild(percent);\n",
              "\n",
              "    outputElement.appendChild(li);\n",
              "\n",
              "    const fileDataPromise = new Promise((resolve) => {\n",
              "      const reader = new FileReader();\n",
              "      reader.onload = (e) => {\n",
              "        resolve(e.target.result);\n",
              "      };\n",
              "      reader.readAsArrayBuffer(file);\n",
              "    });\n",
              "    // Wait for the data to be ready.\n",
              "    let fileData = yield {\n",
              "      promise: fileDataPromise,\n",
              "      response: {\n",
              "        action: 'continue',\n",
              "      }\n",
              "    };\n",
              "\n",
              "    // Use a chunked sending to avoid message size limits. See b/62115660.\n",
              "    let position = 0;\n",
              "    do {\n",
              "      const length = Math.min(fileData.byteLength - position, MAX_PAYLOAD_SIZE);\n",
              "      const chunk = new Uint8Array(fileData, position, length);\n",
              "      position += length;\n",
              "\n",
              "      const base64 = btoa(String.fromCharCode.apply(null, chunk));\n",
              "      yield {\n",
              "        response: {\n",
              "          action: 'append',\n",
              "          file: file.name,\n",
              "          data: base64,\n",
              "        },\n",
              "      };\n",
              "\n",
              "      let percentDone = fileData.byteLength === 0 ?\n",
              "          100 :\n",
              "          Math.round((position / fileData.byteLength) * 100);\n",
              "      percent.textContent = `${percentDone}% done`;\n",
              "\n",
              "    } while (position < fileData.byteLength);\n",
              "  }\n",
              "\n",
              "  // All done.\n",
              "  yield {\n",
              "    response: {\n",
              "      action: 'complete',\n",
              "    }\n",
              "  };\n",
              "}\n",
              "\n",
              "scope.google = scope.google || {};\n",
              "scope.google.colab = scope.google.colab || {};\n",
              "scope.google.colab._files = {\n",
              "  _uploadFiles,\n",
              "  _uploadFilesContinue,\n",
              "};\n",
              "})(self);\n",
              "</script> "
            ]
          },
          "metadata": {}
        }
      ]
    },
    {
      "cell_type": "code",
      "source": [
        "from google.colab import files\n",
        "uploaded = files.upload()"
      ],
      "metadata": {
        "id": "m52O8tkKDgrR"
      },
      "id": "m52O8tkKDgrR",
      "execution_count": null,
      "outputs": []
    },
    {
      "cell_type": "code",
      "execution_count": null,
      "id": "640c71b9-46e8-4957-b46f-0b964c491a09",
      "metadata": {
        "id": "640c71b9-46e8-4957-b46f-0b964c491a09"
      },
      "outputs": [],
      "source": [
        "movies = pd.read_csv(\"tmdb_5000_movies.csv\")\n",
        "credits = pd.read_csv(\"tmdb_5000_credits.csv\")"
      ]
    },
    {
      "cell_type": "code",
      "execution_count": null,
      "id": "a5710047-353f-445d-8582-10bf0ffbc5ae",
      "metadata": {
        "id": "a5710047-353f-445d-8582-10bf0ffbc5ae"
      },
      "outputs": [],
      "source": [
        "movies.head(1)"
      ]
    },
    {
      "cell_type": "code",
      "execution_count": null,
      "id": "dd9ec174-d10b-4aaf-8aa5-c1de48077f44",
      "metadata": {
        "id": "dd9ec174-d10b-4aaf-8aa5-c1de48077f44"
      },
      "outputs": [],
      "source": [
        "credits.head(1)"
      ]
    },
    {
      "cell_type": "code",
      "execution_count": null,
      "id": "cc624028-e62f-47d2-ab60-eefcc6a6c079",
      "metadata": {
        "id": "cc624028-e62f-47d2-ab60-eefcc6a6c079"
      },
      "outputs": [],
      "source": [
        "movies = movies.merge(credits,on='title')\n",
        "movies.head(1)"
      ]
    },
    {
      "cell_type": "code",
      "execution_count": null,
      "id": "0113aeb2-9bdd-475d-a707-584123ded92c",
      "metadata": {
        "id": "0113aeb2-9bdd-475d-a707-584123ded92c"
      },
      "outputs": [],
      "source": [
        "# geners, id, keywords, title, overview, cast, crew\n",
        "movies = movies[['movie_id', 'title', 'overview', 'genres', 'keywords', 'cast', 'crew']]"
      ]
    },
    {
      "cell_type": "code",
      "execution_count": null,
      "id": "e67e2a34-8392-4cdf-b5e7-841f9aac699d",
      "metadata": {
        "id": "e67e2a34-8392-4cdf-b5e7-841f9aac699d"
      },
      "outputs": [],
      "source": [
        "movies.info()"
      ]
    },
    {
      "cell_type": "code",
      "execution_count": null,
      "id": "b1070bbc-4593-4dc5-b47e-ab28dc7b83a4",
      "metadata": {
        "id": "b1070bbc-4593-4dc5-b47e-ab28dc7b83a4"
      },
      "outputs": [],
      "source": [
        "movies.head()"
      ]
    },
    {
      "cell_type": "code",
      "execution_count": null,
      "id": "e52b1eb6-6464-4c8f-8d43-8bbd1091892c",
      "metadata": {
        "id": "e52b1eb6-6464-4c8f-8d43-8bbd1091892c"
      },
      "outputs": [],
      "source": [
        "movies.isnull().sum()"
      ]
    },
    {
      "cell_type": "code",
      "execution_count": null,
      "id": "bd404f23-f9a7-46cd-afed-e43422faf2d0",
      "metadata": {
        "id": "bd404f23-f9a7-46cd-afed-e43422faf2d0"
      },
      "outputs": [],
      "source": [
        "movies.dropna(inplace = True)"
      ]
    },
    {
      "cell_type": "code",
      "execution_count": null,
      "id": "8eb38631-3185-4241-9ddb-3dc488f44d79",
      "metadata": {
        "id": "8eb38631-3185-4241-9ddb-3dc488f44d79"
      },
      "outputs": [],
      "source": [
        "movies.duplicated().sum()"
      ]
    },
    {
      "cell_type": "code",
      "execution_count": null,
      "id": "f96cdf7e-c52d-4401-9bc1-99142e540309",
      "metadata": {
        "id": "f96cdf7e-c52d-4401-9bc1-99142e540309"
      },
      "outputs": [],
      "source": [
        "movies.iloc[0].genres"
      ]
    },
    {
      "cell_type": "code",
      "execution_count": null,
      "id": "fdef421c-d57f-413f-9fc6-f69e7775105e",
      "metadata": {
        "id": "fdef421c-d57f-413f-9fc6-f69e7775105e"
      },
      "outputs": [],
      "source": [
        "# '[{\"id\": 28, \"name\": \"Action\"}, {\"id\": 12, \"name\": \"Adventure\"}, {\"id\": 14, \"name\": \"Fantasy\"}, {\"id\": 878, \"name\": \"Science Fiction\"}]'\n",
        "# ['Action' ,'Adventure','Fantasy', 'Science Fiction'"
      ]
    },
    {
      "cell_type": "code",
      "execution_count": null,
      "id": "9d72e0f0-c67c-4ced-97a9-91a257d805c9",
      "metadata": {
        "id": "9d72e0f0-c67c-4ced-97a9-91a257d805c9"
      },
      "outputs": [],
      "source": [
        "import ast"
      ]
    },
    {
      "cell_type": "code",
      "execution_count": null,
      "id": "0c3c9b9c-bdaf-4124-bd57-0e111ca0f8fd",
      "metadata": {
        "id": "0c3c9b9c-bdaf-4124-bd57-0e111ca0f8fd"
      },
      "outputs": [],
      "source": [
        "def convert(obj):\n",
        "   L = []\n",
        "   for i in ast.literal_eval(obj):\n",
        "       L.append(i['name'])\n",
        "   return L"
      ]
    },
    {
      "cell_type": "code",
      "execution_count": null,
      "id": "05f267ed-f783-4c14-a5c6-8b2539515a53",
      "metadata": {
        "id": "05f267ed-f783-4c14-a5c6-8b2539515a53"
      },
      "outputs": [],
      "source": [
        "movies['genres'] = movies['genres'].apply(convert)"
      ]
    },
    {
      "cell_type": "code",
      "execution_count": null,
      "id": "78436680-4138-42c1-8343-d88e697c8f94",
      "metadata": {
        "id": "78436680-4138-42c1-8343-d88e697c8f94"
      },
      "outputs": [],
      "source": [
        "movies['genres']"
      ]
    },
    {
      "cell_type": "code",
      "execution_count": null,
      "id": "67f0bb38-cd8d-4d8e-9a0b-33e89107a3bc",
      "metadata": {
        "id": "67f0bb38-cd8d-4d8e-9a0b-33e89107a3bc"
      },
      "outputs": [],
      "source": [
        "movies.head()"
      ]
    },
    {
      "cell_type": "code",
      "execution_count": null,
      "id": "c2ef9fa0-b053-449e-80b1-446b984ccfdd",
      "metadata": {
        "id": "c2ef9fa0-b053-449e-80b1-446b984ccfdd"
      },
      "outputs": [],
      "source": [
        "movies['keywords'] = movies['keywords'].apply(convert)"
      ]
    },
    {
      "cell_type": "code",
      "execution_count": null,
      "id": "4a65c4d0-58aa-4541-a897-527d2e3d3ada",
      "metadata": {
        "id": "4a65c4d0-58aa-4541-a897-527d2e3d3ada"
      },
      "outputs": [],
      "source": [
        "movies.head()"
      ]
    },
    {
      "cell_type": "code",
      "execution_count": null,
      "id": "2ed5c0bc-c5ad-47e3-9eee-252e299e6698",
      "metadata": {
        "id": "2ed5c0bc-c5ad-47e3-9eee-252e299e6698"
      },
      "outputs": [],
      "source": [
        "movies['cast'][0]       # we need actual names not characters"
      ]
    },
    {
      "cell_type": "code",
      "execution_count": null,
      "id": "fbb2ca88-e2de-4f17-bd5e-bbf3123c5e00",
      "metadata": {
        "id": "fbb2ca88-e2de-4f17-bd5e-bbf3123c5e00"
      },
      "outputs": [],
      "source": [
        "def convert3(obj):\n",
        "    L = []\n",
        "    counter = 0\n",
        "    for i in ast.literal_eval(obj):\n",
        "        if counter != 3:                            # 3 used to display 3 dictionary data\n",
        "            L.append(i['name'])\n",
        "            counter+=1\n",
        "        else:\n",
        "            break\n",
        "    return L"
      ]
    },
    {
      "cell_type": "code",
      "execution_count": null,
      "id": "aa190281-58af-43be-99fe-8f1d39c07c40",
      "metadata": {
        "id": "aa190281-58af-43be-99fe-8f1d39c07c40"
      },
      "outputs": [],
      "source": [
        "movies['cast'] = movies['cast'].apply(convert3)"
      ]
    },
    {
      "cell_type": "code",
      "execution_count": null,
      "id": "9c18f133-7b51-4ddd-b97f-8c99acaf47f6",
      "metadata": {
        "id": "9c18f133-7b51-4ddd-b97f-8c99acaf47f6"
      },
      "outputs": [],
      "source": [
        "movies['cast']"
      ]
    },
    {
      "cell_type": "code",
      "execution_count": null,
      "id": "cad6148a-c0e5-4a40-b4e3-e92e487330ad",
      "metadata": {
        "id": "cad6148a-c0e5-4a40-b4e3-e92e487330ad"
      },
      "outputs": [],
      "source": [
        "movies.head()"
      ]
    },
    {
      "cell_type": "code",
      "execution_count": null,
      "id": "cce69133-27f1-42da-9e63-b6027a07d23f",
      "metadata": {
        "id": "cce69133-27f1-42da-9e63-b6027a07d23f"
      },
      "outputs": [],
      "source": [
        "movies['crew'][0]        # we need those dictionaries only in which job = director"
      ]
    },
    {
      "cell_type": "code",
      "execution_count": null,
      "id": "bdb77271-7ebe-4a9e-b78d-bdeb10f680c4",
      "metadata": {
        "id": "bdb77271-7ebe-4a9e-b78d-bdeb10f680c4"
      },
      "outputs": [],
      "source": [
        "def fetch_director(obj):\n",
        "    L = []\n",
        "    for i in ast.literal_eval(obj):\n",
        "        if i['job'] == 'Director':\n",
        "           L.append(i['name'])\n",
        "           break\n",
        "    return L"
      ]
    },
    {
      "cell_type": "code",
      "execution_count": null,
      "id": "676a3677-e0ea-4b71-b664-b50b3c8ba55e",
      "metadata": {
        "id": "676a3677-e0ea-4b71-b664-b50b3c8ba55e"
      },
      "outputs": [],
      "source": [
        "movies['crew'] = movies['crew'].apply(fetch_director)"
      ]
    },
    {
      "cell_type": "code",
      "execution_count": null,
      "id": "9202957b-2c3f-4687-80a5-3f8fcd3deaa5",
      "metadata": {
        "id": "9202957b-2c3f-4687-80a5-3f8fcd3deaa5"
      },
      "outputs": [],
      "source": [
        "movies['crew']"
      ]
    },
    {
      "cell_type": "code",
      "execution_count": null,
      "id": "987b28a6-61af-4d54-8ca1-8c7f6b57e392",
      "metadata": {
        "id": "987b28a6-61af-4d54-8ca1-8c7f6b57e392"
      },
      "outputs": [],
      "source": [
        "movies.head()"
      ]
    },
    {
      "cell_type": "code",
      "execution_count": null,
      "id": "29fc8751-9bc1-4505-abfb-6cb5a2d2e952",
      "metadata": {
        "id": "29fc8751-9bc1-4505-abfb-6cb5a2d2e952"
      },
      "outputs": [],
      "source": [
        "movies['overview'][0]       # it is a string"
      ]
    },
    {
      "cell_type": "code",
      "execution_count": null,
      "id": "b0b986c9-ddb9-4ed7-aab4-6d4e29409907",
      "metadata": {
        "id": "b0b986c9-ddb9-4ed7-aab4-6d4e29409907"
      },
      "outputs": [],
      "source": [
        "movies['overview'] = movies['overview'].apply(lambda x: x.split())"
      ]
    },
    {
      "cell_type": "code",
      "execution_count": null,
      "id": "acb48727-eda1-4863-b372-4aaf25837fe0",
      "metadata": {
        "id": "acb48727-eda1-4863-b372-4aaf25837fe0"
      },
      "outputs": [],
      "source": [
        "movies['overview']"
      ]
    },
    {
      "cell_type": "code",
      "execution_count": null,
      "id": "866dcac7-4c45-473e-85f8-d24dbaa59163",
      "metadata": {
        "id": "866dcac7-4c45-473e-85f8-d24dbaa59163"
      },
      "outputs": [],
      "source": [
        "# now the problem is space like: sam worthington is change to samworthington   so tags are distributed to specific tags"
      ]
    },
    {
      "cell_type": "code",
      "execution_count": null,
      "id": "402d9852-a5e5-436e-a96e-44097728ab7a",
      "metadata": {
        "id": "402d9852-a5e5-436e-a96e-44097728ab7a"
      },
      "outputs": [],
      "source": [
        "movies['genres'] = movies['genres'].apply(lambda x: [i.replace(\" \",\"\") for i in x])\n",
        "movies['keywords'] = movies['keywords'].apply(lambda x: [i.replace(\" \",\"\") for i in x])\n",
        "movies['cast'] = movies['cast'].apply(lambda x: [i.replace(\" \",\"\") for i in x])\n",
        "movies['crew'] = movies['crew'].apply(lambda x: [i.replace(\" \",\"\") for i in x])"
      ]
    },
    {
      "cell_type": "code",
      "execution_count": null,
      "id": "07dda753-3cf6-4e88-9e5b-1ac95a0ad359",
      "metadata": {
        "scrolled": true,
        "id": "07dda753-3cf6-4e88-9e5b-1ac95a0ad359"
      },
      "outputs": [],
      "source": [
        "movies.head()"
      ]
    },
    {
      "cell_type": "code",
      "execution_count": null,
      "id": "099c55d4-b7f8-4ec3-93b7-9a78df31312a",
      "metadata": {
        "id": "099c55d4-b7f8-4ec3-93b7-9a78df31312a"
      },
      "outputs": [],
      "source": [
        "movies['tags'] = movies['overview'] + movies['genres'] + movies['keywords'] + movies['cast'] + movies['crew']"
      ]
    },
    {
      "cell_type": "code",
      "execution_count": null,
      "id": "1b985a3b-2a9f-46cf-9207-b2ba422c32dd",
      "metadata": {
        "id": "1b985a3b-2a9f-46cf-9207-b2ba422c32dd"
      },
      "outputs": [],
      "source": [
        "movies.head()"
      ]
    },
    {
      "cell_type": "code",
      "execution_count": null,
      "id": "e45a3650-1b44-4e22-9139-65b94dc16345",
      "metadata": {
        "id": "e45a3650-1b44-4e22-9139-65b94dc16345"
      },
      "outputs": [],
      "source": [
        "new_df = movies[['movie_id', 'title', 'tags']]"
      ]
    },
    {
      "cell_type": "code",
      "execution_count": null,
      "id": "8fee37a9-6884-455e-9e96-0644bcd08ee5",
      "metadata": {
        "id": "8fee37a9-6884-455e-9e96-0644bcd08ee5"
      },
      "outputs": [],
      "source": [
        "new_df['tags'] = new_df['tags'].apply(lambda x:\" \".join(x))"
      ]
    },
    {
      "cell_type": "code",
      "execution_count": null,
      "id": "99416d72-6d8f-4e16-ad91-009d446e5adc",
      "metadata": {
        "id": "99416d72-6d8f-4e16-ad91-009d446e5adc"
      },
      "outputs": [],
      "source": [
        "new_df.head()"
      ]
    },
    {
      "cell_type": "code",
      "execution_count": null,
      "id": "ca583648-7fa5-4b07-8291-367ac144a20d",
      "metadata": {
        "id": "ca583648-7fa5-4b07-8291-367ac144a20d"
      },
      "outputs": [],
      "source": [
        "new_df['tags'][0]"
      ]
    },
    {
      "cell_type": "code",
      "execution_count": null,
      "id": "61d73850-453d-46ab-a503-7d557b2c0477",
      "metadata": {
        "id": "61d73850-453d-46ab-a503-7d557b2c0477"
      },
      "outputs": [],
      "source": [
        "new_df['tags'] = new_df['tags'].apply(lambda x: x.lower())"
      ]
    },
    {
      "cell_type": "code",
      "execution_count": null,
      "id": "59600e2f-757c-4bda-9d86-61fa7e5187fd",
      "metadata": {
        "id": "59600e2f-757c-4bda-9d86-61fa7e5187fd"
      },
      "outputs": [],
      "source": [
        "new_df.head()     # in lower case"
      ]
    },
    {
      "cell_type": "code",
      "execution_count": null,
      "id": "ae2541b5-bf58-470f-8660-3ea55ef05235",
      "metadata": {
        "id": "ae2541b5-bf58-470f-8660-3ea55ef05235"
      },
      "outputs": [],
      "source": [
        "import nltk\n",
        "!pip install nltk"
      ]
    },
    {
      "cell_type": "code",
      "execution_count": null,
      "id": "4886ea7e-0dfe-40e8-a2ee-a3c79b49ce38",
      "metadata": {
        "id": "4886ea7e-0dfe-40e8-a2ee-a3c79b49ce38"
      },
      "outputs": [],
      "source": [
        "from nltk.stem.porter import PorterStemmer\n",
        "ps = PorterStemmer()                               # return same word like dance to danc and loving to love"
      ]
    },
    {
      "cell_type": "code",
      "execution_count": null,
      "id": "115e6cec-8ae7-44e5-9f4c-8c772be4de32",
      "metadata": {
        "id": "115e6cec-8ae7-44e5-9f4c-8c772be4de32"
      },
      "outputs": [],
      "source": [
        "def stem(text):\n",
        "    y = []\n",
        "    for i in text.split():\n",
        "        y.append(ps.stem(i))\n",
        "    return \" \".join(y)"
      ]
    },
    {
      "cell_type": "code",
      "execution_count": null,
      "id": "4075ccf0-12fe-4236-b11a-b009f4eee498",
      "metadata": {
        "id": "4075ccf0-12fe-4236-b11a-b009f4eee498"
      },
      "outputs": [],
      "source": [
        "new_df['tags'] = new_df['tags'].apply(stem)"
      ]
    },
    {
      "cell_type": "code",
      "execution_count": null,
      "id": "753fd98b-a5d3-4e9d-b8f4-4dcc29f63645",
      "metadata": {
        "id": "753fd98b-a5d3-4e9d-b8f4-4dcc29f63645"
      },
      "outputs": [],
      "source": [
        "new_df['tags'][0]"
      ]
    },
    {
      "cell_type": "code",
      "execution_count": null,
      "id": "e4297c16-db6c-4c94-9bce-d3f3c383bf51",
      "metadata": {
        "id": "e4297c16-db6c-4c94-9bce-d3f3c383bf51"
      },
      "outputs": [],
      "source": [
        "new_df['tags'][1]"
      ]
    },
    {
      "cell_type": "code",
      "execution_count": null,
      "id": "a63e8c10-cc5e-45bf-8688-e114e52ca459",
      "metadata": {
        "id": "a63e8c10-cc5e-45bf-8688-e114e52ca459"
      },
      "outputs": [],
      "source": [
        "from sklearn.feature_extraction.text import CountVectorizer\n",
        "cv = CountVectorizer(max_features = 5000,stop_words = 'english')"
      ]
    },
    {
      "cell_type": "code",
      "execution_count": null,
      "id": "db80974e-b534-43f4-a630-17ee8a812c3d",
      "metadata": {
        "id": "db80974e-b534-43f4-a630-17ee8a812c3d"
      },
      "outputs": [],
      "source": [
        "vectors = cv.fit_transform(new_df['tags']).toarray()       # like sparse matrix"
      ]
    },
    {
      "cell_type": "code",
      "execution_count": null,
      "id": "fed77e99-6ce0-4937-96c9-12fb767772b2",
      "metadata": {
        "id": "fed77e99-6ce0-4937-96c9-12fb767772b2"
      },
      "outputs": [],
      "source": [
        "vectors"
      ]
    },
    {
      "cell_type": "code",
      "execution_count": null,
      "id": "fa39ff2c-f74d-460b-ac19-60d75830622f",
      "metadata": {
        "id": "fa39ff2c-f74d-460b-ac19-60d75830622f"
      },
      "outputs": [],
      "source": [
        "vectors[0]"
      ]
    },
    {
      "cell_type": "code",
      "execution_count": null,
      "id": "331b20d2-ccc3-4e1a-baea-209437b4e37b",
      "metadata": {
        "id": "331b20d2-ccc3-4e1a-baea-209437b4e37b"
      },
      "outputs": [],
      "source": [
        "cv.get_feature_names_out()"
      ]
    },
    {
      "cell_type": "code",
      "execution_count": null,
      "id": "e919682e-6d4d-4e80-9dfe-6671ddd63cf9",
      "metadata": {
        "id": "e919682e-6d4d-4e80-9dfe-6671ddd63cf9"
      },
      "outputs": [],
      "source": [
        "ps.stem('danced')"
      ]
    },
    {
      "cell_type": "code",
      "execution_count": null,
      "id": "aa8ec576-0986-4dd0-a5e3-a4b55e746d3e",
      "metadata": {
        "id": "aa8ec576-0986-4dd0-a5e3-a4b55e746d3e"
      },
      "outputs": [],
      "source": [
        "stem('in the 22nd century, a paraplegic marine is dispatched to the moon pandora on a unique mission, but becomes torn between following orders and protecting an alien civilization. action adventure fantasy sciencefiction cultureclash future spacewar spacecolony society spacetravel futuristic romance space alien tribe alienplanet cgi marine soldier battle loveaffair antiwar powerrelations mindandsoul 3d samworthington zoesaldana sigourneyweaver jamescameron')"
      ]
    },
    {
      "cell_type": "code",
      "execution_count": null,
      "id": "dd503428-a2d0-435f-ae07-204afb8cf587",
      "metadata": {
        "id": "dd503428-a2d0-435f-ae07-204afb8cf587"
      },
      "outputs": [],
      "source": [
        "from sklearn.metrics.pairwise import cosine_similarity"
      ]
    },
    {
      "cell_type": "code",
      "execution_count": null,
      "id": "3ebf248e-6786-4547-a5d4-1ff347740265",
      "metadata": {
        "id": "3ebf248e-6786-4547-a5d4-1ff347740265"
      },
      "outputs": [],
      "source": [
        "similarity = cosine_similarity(vectors)              # distance(cosine) between movies(vectors)"
      ]
    },
    {
      "cell_type": "code",
      "execution_count": null,
      "id": "fba29c01-eb15-4c3f-b752-2b82f8b5b909",
      "metadata": {
        "id": "fba29c01-eb15-4c3f-b752-2b82f8b5b909"
      },
      "outputs": [],
      "source": [
        "sorted(list(enumerate(similarity[0])),reverse = True,key = lambda x: x[1]) [1:11]      # index position created with distances"
      ]
    },
    {
      "cell_type": "code",
      "execution_count": null,
      "id": "aea4ffa0-cf03-4337-903e-7ea0de10c32b",
      "metadata": {
        "id": "aea4ffa0-cf03-4337-903e-7ea0de10c32b"
      },
      "outputs": [],
      "source": [
        "def recommend(movie):\n",
        "    movie_index = new_df[new_df['title'] == movie].index[0]\n",
        "    distances = similarity[movie_index]\n",
        "    movies_list = sorted(list(enumerate(distances)),reverse = True,key = lambda x: x[1]) [1:11]\n",
        "\n",
        "    for i in movies_list:\n",
        "        print(new_df.iloc[i[0]].title)                       # fetch similar 10 movies title"
      ]
    },
    {
      "cell_type": "code",
      "execution_count": null,
      "id": "b29c7c79-bdea-4d07-a9c8-cd559dff0ca5",
      "metadata": {
        "id": "b29c7c79-bdea-4d07-a9c8-cd559dff0ca5"
      },
      "outputs": [],
      "source": [
        "recommend('Avatar')"
      ]
    },
    {
      "cell_type": "code",
      "execution_count": null,
      "id": "7d913815-6a8d-484c-bf6b-f072d8420ea1",
      "metadata": {
        "id": "7d913815-6a8d-484c-bf6b-f072d8420ea1"
      },
      "outputs": [],
      "source": [
        "recommend('Batman Begins')"
      ]
    },
    {
      "cell_type": "code",
      "execution_count": null,
      "id": "1d3d9f05-b9a4-4b13-8363-74969961d5bc",
      "metadata": {
        "id": "1d3d9f05-b9a4-4b13-8363-74969961d5bc"
      },
      "outputs": [],
      "source": [
        "new_df.iloc[1214].title"
      ]
    },
    {
      "cell_type": "code",
      "execution_count": null,
      "id": "018d1f3e-0d6b-4631-80b7-906949b8b704",
      "metadata": {
        "id": "018d1f3e-0d6b-4631-80b7-906949b8b704"
      },
      "outputs": [],
      "source": [
        "import pickle"
      ]
    },
    {
      "cell_type": "code",
      "execution_count": null,
      "id": "89984a36-1319-4333-9499-9afced805024",
      "metadata": {
        "id": "89984a36-1319-4333-9499-9afced805024"
      },
      "outputs": [],
      "source": [
        "pickle.dump(new_df,open('movies.pkl','wb'))"
      ]
    },
    {
      "cell_type": "code",
      "execution_count": null,
      "id": "ca2bc306-e418-45bd-9ca3-6cabcd3e9e99",
      "metadata": {
        "id": "ca2bc306-e418-45bd-9ca3-6cabcd3e9e99"
      },
      "outputs": [],
      "source": [
        "new_df['title'].values"
      ]
    },
    {
      "cell_type": "code",
      "execution_count": null,
      "id": "05ebfde9-e489-4b6b-b917-0c7f2b1fccc3",
      "metadata": {
        "id": "05ebfde9-e489-4b6b-b917-0c7f2b1fccc3"
      },
      "outputs": [],
      "source": [
        "pickle.dump(similarity,open('similarity.pkl', 'wb'))"
      ]
    }
  ],
  "metadata": {
    "kernelspec": {
      "display_name": "Python 3 (ipykernel)",
      "language": "python",
      "name": "python3"
    },
    "language_info": {
      "codemirror_mode": {
        "name": "ipython",
        "version": 3
      },
      "file_extension": ".py",
      "mimetype": "text/x-python",
      "name": "python",
      "nbconvert_exporter": "python",
      "pygments_lexer": "ipython3",
      "version": "3.12.7"
    },
    "colab": {
      "provenance": [],
      "include_colab_link": true
    }
  },
  "nbformat": 4,
  "nbformat_minor": 5
}